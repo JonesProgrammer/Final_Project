{
 "cells": [
  {
   "cell_type": "code",
   "execution_count": 7,
   "id": "126e6b3f-a919-4942-940d-f401d6de712f",
   "metadata": {
    "colab": {
     "base_uri": "https://localhost:8080/"
    },
    "id": "126e6b3f-a919-4942-940d-f401d6de712f",
    "outputId": "861b0432-c292-4d96-80e6-8a4c8f0b455c"
   },
   "outputs": [
    {
     "name": "stdout",
     "output_type": "stream",
     "text": [
      "Defaulting to user installation because normal site-packages is not writeable\n",
      "Requirement already satisfied: gdown in c:\\programdata\\anaconda3\\lib\\site-packages (5.2.0)\n",
      "Requirement already satisfied: beautifulsoup4 in c:\\programdata\\anaconda3\\lib\\site-packages (from gdown) (4.12.2)\n",
      "Requirement already satisfied: filelock in c:\\programdata\\anaconda3\\lib\\site-packages (from gdown) (3.13.1)\n",
      "Requirement already satisfied: requests[socks] in c:\\programdata\\anaconda3\\lib\\site-packages (from gdown) (2.31.0)\n",
      "Requirement already satisfied: tqdm in c:\\programdata\\anaconda3\\lib\\site-packages (from gdown) (4.65.0)\n",
      "Requirement already satisfied: soupsieve>1.2 in c:\\programdata\\anaconda3\\lib\\site-packages (from beautifulsoup4->gdown) (2.5)\n",
      "Requirement already satisfied: charset-normalizer<4,>=2 in c:\\programdata\\anaconda3\\lib\\site-packages (from requests[socks]->gdown) (2.0.4)\n",
      "Requirement already satisfied: idna<4,>=2.5 in c:\\programdata\\anaconda3\\lib\\site-packages (from requests[socks]->gdown) (3.4)\n",
      "Requirement already satisfied: urllib3<3,>=1.21.1 in c:\\programdata\\anaconda3\\lib\\site-packages (from requests[socks]->gdown) (2.0.7)\n",
      "Requirement already satisfied: certifi>=2017.4.17 in c:\\programdata\\anaconda3\\lib\\site-packages (from requests[socks]->gdown) (2024.2.2)\n",
      "Requirement already satisfied: PySocks!=1.5.7,>=1.5.6 in c:\\programdata\\anaconda3\\lib\\site-packages (from requests[socks]->gdown) (1.7.1)\n",
      "Requirement already satisfied: colorama in c:\\programdata\\anaconda3\\lib\\site-packages (from tqdm->gdown) (0.4.6)\n",
      "Note: you may need to restart the kernel to use updated packages.\n",
      "Defaulting to user installation because normal site-packages is not writeable\n",
      "Requirement already satisfied: matplotlib in c:\\programdata\\anaconda3\\lib\\site-packages (3.8.0)\n",
      "Requirement already satisfied: contourpy>=1.0.1 in c:\\programdata\\anaconda3\\lib\\site-packages (from matplotlib) (1.2.0)\n",
      "Requirement already satisfied: cycler>=0.10 in c:\\programdata\\anaconda3\\lib\\site-packages (from matplotlib) (0.11.0)\n",
      "Requirement already satisfied: fonttools>=4.22.0 in c:\\programdata\\anaconda3\\lib\\site-packages (from matplotlib) (4.25.0)\n",
      "Requirement already satisfied: kiwisolver>=1.0.1 in c:\\programdata\\anaconda3\\lib\\site-packages (from matplotlib) (1.4.4)\n",
      "Requirement already satisfied: numpy<2,>=1.21 in c:\\programdata\\anaconda3\\lib\\site-packages (from matplotlib) (1.26.4)\n",
      "Requirement already satisfied: packaging>=20.0 in c:\\programdata\\anaconda3\\lib\\site-packages (from matplotlib) (23.1)\n",
      "Requirement already satisfied: pillow>=6.2.0 in c:\\programdata\\anaconda3\\lib\\site-packages (from matplotlib) (10.2.0)\n",
      "Requirement already satisfied: pyparsing>=2.3.1 in c:\\programdata\\anaconda3\\lib\\site-packages (from matplotlib) (3.0.9)\n",
      "Requirement already satisfied: python-dateutil>=2.7 in c:\\programdata\\anaconda3\\lib\\site-packages (from matplotlib) (2.8.2)\n",
      "Requirement already satisfied: six>=1.5 in c:\\programdata\\anaconda3\\lib\\site-packages (from python-dateutil>=2.7->matplotlib) (1.16.0)\n",
      "Note: you may need to restart the kernel to use updated packages.\n",
      "Defaulting to user installation because normal site-packages is not writeable\n",
      "Requirement already satisfied: scikit-learn in c:\\programdata\\anaconda3\\lib\\site-packages (1.2.2)\n",
      "Requirement already satisfied: numpy>=1.17.3 in c:\\programdata\\anaconda3\\lib\\site-packages (from scikit-learn) (1.26.4)\n",
      "Requirement already satisfied: scipy>=1.3.2 in c:\\programdata\\anaconda3\\lib\\site-packages (from scikit-learn) (1.11.4)\n",
      "Requirement already satisfied: joblib>=1.1.1 in c:\\programdata\\anaconda3\\lib\\site-packages (from scikit-learn) (1.2.0)\n",
      "Requirement already satisfied: threadpoolctl>=2.0.0 in c:\\programdata\\anaconda3\\lib\\site-packages (from scikit-learn) (2.2.0)\n",
      "Note: you may need to restart the kernel to use updated packages.\n",
      "Defaulting to user installation because normal site-packages is not writeable\n",
      "Requirement already satisfied: opencv-python in c:\\programdata\\anaconda3\\lib\\site-packages (4.9.0.80)\n",
      "Requirement already satisfied: numpy>=1.21.2 in c:\\programdata\\anaconda3\\lib\\site-packages (from opencv-python) (1.26.4)\n",
      "Note: you may need to restart the kernel to use updated packages.\n",
      "Defaulting to user installation because normal site-packages is not writeable\n",
      "Requirement already satisfied: tensorflow in c:\\programdata\\anaconda3\\lib\\site-packages (2.16.1)\n",
      "Requirement already satisfied: tensorflow-intel==2.16.1 in c:\\programdata\\anaconda3\\lib\\site-packages (from tensorflow) (2.16.1)\n",
      "Requirement already satisfied: absl-py>=1.0.0 in c:\\programdata\\anaconda3\\lib\\site-packages (from tensorflow-intel==2.16.1->tensorflow) (2.1.0)\n",
      "Requirement already satisfied: astunparse>=1.6.0 in c:\\programdata\\anaconda3\\lib\\site-packages (from tensorflow-intel==2.16.1->tensorflow) (1.6.3)\n",
      "Requirement already satisfied: flatbuffers>=23.5.26 in c:\\programdata\\anaconda3\\lib\\site-packages (from tensorflow-intel==2.16.1->tensorflow) (24.3.25)\n",
      "Requirement already satisfied: gast!=0.5.0,!=0.5.1,!=0.5.2,>=0.2.1 in c:\\programdata\\anaconda3\\lib\\site-packages (from tensorflow-intel==2.16.1->tensorflow) (0.5.4)\n",
      "Requirement already satisfied: google-pasta>=0.1.1 in c:\\programdata\\anaconda3\\lib\\site-packages (from tensorflow-intel==2.16.1->tensorflow) (0.2.0)\n",
      "Requirement already satisfied: h5py>=3.10.0 in c:\\programdata\\anaconda3\\lib\\site-packages (from tensorflow-intel==2.16.1->tensorflow) (3.11.0)\n",
      "Requirement already satisfied: libclang>=13.0.0 in c:\\programdata\\anaconda3\\lib\\site-packages (from tensorflow-intel==2.16.1->tensorflow) (18.1.1)\n",
      "Requirement already satisfied: ml-dtypes~=0.3.1 in c:\\programdata\\anaconda3\\lib\\site-packages (from tensorflow-intel==2.16.1->tensorflow) (0.3.2)\n",
      "Requirement already satisfied: opt-einsum>=2.3.2 in c:\\programdata\\anaconda3\\lib\\site-packages (from tensorflow-intel==2.16.1->tensorflow) (3.3.0)\n",
      "Requirement already satisfied: packaging in c:\\programdata\\anaconda3\\lib\\site-packages (from tensorflow-intel==2.16.1->tensorflow) (23.1)\n",
      "Requirement already satisfied: protobuf!=4.21.0,!=4.21.1,!=4.21.2,!=4.21.3,!=4.21.4,!=4.21.5,<5.0.0dev,>=3.20.3 in c:\\programdata\\anaconda3\\lib\\site-packages (from tensorflow-intel==2.16.1->tensorflow) (3.20.3)\n",
      "Requirement already satisfied: requests<3,>=2.21.0 in c:\\programdata\\anaconda3\\lib\\site-packages (from tensorflow-intel==2.16.1->tensorflow) (2.31.0)\n",
      "Requirement already satisfied: setuptools in c:\\programdata\\anaconda3\\lib\\site-packages (from tensorflow-intel==2.16.1->tensorflow) (68.2.2)\n",
      "Requirement already satisfied: six>=1.12.0 in c:\\programdata\\anaconda3\\lib\\site-packages (from tensorflow-intel==2.16.1->tensorflow) (1.16.0)\n",
      "Requirement already satisfied: termcolor>=1.1.0 in c:\\programdata\\anaconda3\\lib\\site-packages (from tensorflow-intel==2.16.1->tensorflow) (2.4.0)\n",
      "Requirement already satisfied: typing-extensions>=3.6.6 in c:\\programdata\\anaconda3\\lib\\site-packages (from tensorflow-intel==2.16.1->tensorflow) (4.9.0)\n",
      "Requirement already satisfied: wrapt>=1.11.0 in c:\\programdata\\anaconda3\\lib\\site-packages (from tensorflow-intel==2.16.1->tensorflow) (1.14.1)\n",
      "Requirement already satisfied: grpcio<2.0,>=1.24.3 in c:\\programdata\\anaconda3\\lib\\site-packages (from tensorflow-intel==2.16.1->tensorflow) (1.64.0)\n",
      "Requirement already satisfied: tensorboard<2.17,>=2.16 in c:\\programdata\\anaconda3\\lib\\site-packages (from tensorflow-intel==2.16.1->tensorflow) (2.16.2)\n",
      "Requirement already satisfied: keras>=3.0.0 in c:\\programdata\\anaconda3\\lib\\site-packages (from tensorflow-intel==2.16.1->tensorflow) (3.3.3)\n",
      "Requirement already satisfied: tensorflow-io-gcs-filesystem>=0.23.1 in c:\\programdata\\anaconda3\\lib\\site-packages (from tensorflow-intel==2.16.1->tensorflow) (0.31.0)\n",
      "Requirement already satisfied: numpy<2.0.0,>=1.23.5 in c:\\programdata\\anaconda3\\lib\\site-packages (from tensorflow-intel==2.16.1->tensorflow) (1.26.4)\n",
      "Requirement already satisfied: wheel<1.0,>=0.23.0 in c:\\programdata\\anaconda3\\lib\\site-packages (from astunparse>=1.6.0->tensorflow-intel==2.16.1->tensorflow) (0.41.2)\n",
      "Requirement already satisfied: rich in c:\\programdata\\anaconda3\\lib\\site-packages (from keras>=3.0.0->tensorflow-intel==2.16.1->tensorflow) (13.3.5)\n",
      "Requirement already satisfied: namex in c:\\programdata\\anaconda3\\lib\\site-packages (from keras>=3.0.0->tensorflow-intel==2.16.1->tensorflow) (0.0.8)\n",
      "Requirement already satisfied: optree in c:\\programdata\\anaconda3\\lib\\site-packages (from keras>=3.0.0->tensorflow-intel==2.16.1->tensorflow) (0.11.0)\n",
      "Requirement already satisfied: charset-normalizer<4,>=2 in c:\\programdata\\anaconda3\\lib\\site-packages (from requests<3,>=2.21.0->tensorflow-intel==2.16.1->tensorflow) (2.0.4)\n",
      "Requirement already satisfied: idna<4,>=2.5 in c:\\programdata\\anaconda3\\lib\\site-packages (from requests<3,>=2.21.0->tensorflow-intel==2.16.1->tensorflow) (3.4)\n",
      "Requirement already satisfied: urllib3<3,>=1.21.1 in c:\\programdata\\anaconda3\\lib\\site-packages (from requests<3,>=2.21.0->tensorflow-intel==2.16.1->tensorflow) (2.0.7)\n",
      "Requirement already satisfied: certifi>=2017.4.17 in c:\\programdata\\anaconda3\\lib\\site-packages (from requests<3,>=2.21.0->tensorflow-intel==2.16.1->tensorflow) (2024.2.2)\n",
      "Requirement already satisfied: markdown>=2.6.8 in c:\\programdata\\anaconda3\\lib\\site-packages (from tensorboard<2.17,>=2.16->tensorflow-intel==2.16.1->tensorflow) (3.4.1)\n",
      "Requirement already satisfied: tensorboard-data-server<0.8.0,>=0.7.0 in c:\\programdata\\anaconda3\\lib\\site-packages (from tensorboard<2.17,>=2.16->tensorflow-intel==2.16.1->tensorflow) (0.7.2)\n",
      "Requirement already satisfied: werkzeug>=1.0.1 in c:\\programdata\\anaconda3\\lib\\site-packages (from tensorboard<2.17,>=2.16->tensorflow-intel==2.16.1->tensorflow) (2.2.3)\n",
      "Requirement already satisfied: MarkupSafe>=2.1.1 in c:\\programdata\\anaconda3\\lib\\site-packages (from werkzeug>=1.0.1->tensorboard<2.17,>=2.16->tensorflow-intel==2.16.1->tensorflow) (2.1.3)\n",
      "Requirement already satisfied: markdown-it-py<3.0.0,>=2.2.0 in c:\\programdata\\anaconda3\\lib\\site-packages (from rich->keras>=3.0.0->tensorflow-intel==2.16.1->tensorflow) (2.2.0)\n",
      "Requirement already satisfied: pygments<3.0.0,>=2.13.0 in c:\\programdata\\anaconda3\\lib\\site-packages (from rich->keras>=3.0.0->tensorflow-intel==2.16.1->tensorflow) (2.15.1)\n",
      "Requirement already satisfied: mdurl~=0.1 in c:\\programdata\\anaconda3\\lib\\site-packages (from markdown-it-py<3.0.0,>=2.2.0->rich->keras>=3.0.0->tensorflow-intel==2.16.1->tensorflow) (0.1.0)\n",
      "Note: you may need to restart the kernel to use updated packages.\n",
      "Defaulting to user installation because normal site-packages is not writeable\n",
      "Requirement already satisfied: keras in c:\\programdata\\anaconda3\\lib\\site-packages (3.3.3)\n",
      "Requirement already satisfied: absl-py in c:\\programdata\\anaconda3\\lib\\site-packages (from keras) (2.1.0)\n",
      "Requirement already satisfied: numpy in c:\\programdata\\anaconda3\\lib\\site-packages (from keras) (1.26.4)\n",
      "Requirement already satisfied: rich in c:\\programdata\\anaconda3\\lib\\site-packages (from keras) (13.3.5)\n",
      "Requirement already satisfied: namex in c:\\programdata\\anaconda3\\lib\\site-packages (from keras) (0.0.8)\n",
      "Requirement already satisfied: h5py in c:\\programdata\\anaconda3\\lib\\site-packages (from keras) (3.11.0)\n",
      "Requirement already satisfied: optree in c:\\programdata\\anaconda3\\lib\\site-packages (from keras) (0.11.0)\n",
      "Requirement already satisfied: ml-dtypes in c:\\programdata\\anaconda3\\lib\\site-packages (from keras) (0.3.2)\n",
      "Requirement already satisfied: typing-extensions>=4.0.0 in c:\\programdata\\anaconda3\\lib\\site-packages (from optree->keras) (4.9.0)\n",
      "Requirement already satisfied: markdown-it-py<3.0.0,>=2.2.0 in c:\\programdata\\anaconda3\\lib\\site-packages (from rich->keras) (2.2.0)\n",
      "Requirement already satisfied: pygments<3.0.0,>=2.13.0 in c:\\programdata\\anaconda3\\lib\\site-packages (from rich->keras) (2.15.1)\n",
      "Requirement already satisfied: mdurl~=0.1 in c:\\programdata\\anaconda3\\lib\\site-packages (from markdown-it-py<3.0.0,>=2.2.0->rich->keras) (0.1.0)\n",
      "Note: you may need to restart the kernel to use updated packages.\n",
      "Defaulting to user installation because normal site-packages is not writeable\n",
      "Requirement already satisfied: pandas in c:\\programdata\\anaconda3\\lib\\site-packages (2.1.4)\n",
      "Requirement already satisfied: numpy<2,>=1.23.2 in c:\\programdata\\anaconda3\\lib\\site-packages (from pandas) (1.26.4)\n",
      "Requirement already satisfied: python-dateutil>=2.8.2 in c:\\programdata\\anaconda3\\lib\\site-packages (from pandas) (2.8.2)\n",
      "Requirement already satisfied: pytz>=2020.1 in c:\\programdata\\anaconda3\\lib\\site-packages (from pandas) (2023.3.post1)\n",
      "Requirement already satisfied: tzdata>=2022.1 in c:\\programdata\\anaconda3\\lib\\site-packages (from pandas) (2023.3)\n",
      "Requirement already satisfied: six>=1.5 in c:\\programdata\\anaconda3\\lib\\site-packages (from python-dateutil>=2.8.2->pandas) (1.16.0)\n",
      "Note: you may need to restart the kernel to use updated packages.\n",
      "Defaulting to user installation because normal site-packages is not writeable\n",
      "Requirement already satisfied: numpy in c:\\programdata\\anaconda3\\lib\\site-packages (1.26.4)\n",
      "Note: you may need to restart the kernel to use updated packages.\n"
     ]
    }
   ],
   "source": [
    "%pip install gdown\n",
    "%pip install matplotlib\n",
    "%pip install scikit-learn\n",
    "%pip install opencv-python\n",
    "%pip install tensorflow\n",
    "%pip install keras\n",
    "%pip install pandas\n",
    "%pip install numpy"
   ]
  },
  {
   "cell_type": "code",
   "execution_count": 8,
   "id": "9a4cc8d6-d3c1-429d-824d-bdf58f359b4a",
   "metadata": {
    "id": "9a4cc8d6-d3c1-429d-824d-bdf58f359b4a"
   },
   "outputs": [],
   "source": [
    "import numpy as np\n",
    "import pandas as pd\n",
    "import matplotlib.pyplot as plt\n",
    "from PIL import Image\n",
    "from glob import glob\n",
    "from sklearn.model_selection import train_test_split\n",
    "from sklearn import metrics\n",
    "import cv2\n",
    "import gc\n",
    "import os\n",
    "import tensorflow as tf\n",
    "from tensorflow import keras\n",
    "from keras import layers\n",
    "from keras.callbacks import EarlyStopping, ReduceLROnPlateau, ModelCheckpoint\n",
    "import warnings\n",
    "warnings.filterwarnings('ignore')\n"
   ]
  },
  {
   "cell_type": "code",
   "execution_count": 9,
   "id": "4e4ca6c4-6ab3-4db5-bcfd-ead120bda097",
   "metadata": {
    "colab": {
     "base_uri": "https://localhost:8080/"
    },
    "id": "4e4ca6c4-6ab3-4db5-bcfd-ead120bda097",
    "outputId": "fe2bc16e-8720-4044-cf50-fcf93761e3fe"
   },
   "outputs": [
    {
     "name": "stderr",
     "output_type": "stream",
     "text": [
      "Downloading...\n",
      "From (original): https://drive.google.com/uc?id=1pWcMgSYqCrijBPtaL0khMF_LAm6ubi-3\n",
      "From (redirected): https://drive.google.com/uc?id=1pWcMgSYqCrijBPtaL0khMF_LAm6ubi-3&confirm=t&uuid=98e50072-f93c-4577-9a98-4691756db8aa\n",
      "To: c:\\Users\\jeste\\OneDrive\\Documentos\\PF\\lung_colon_image_set.zip\n",
      "\n",
      "  0%|          | 0.00/1.89G [00:00<?, ?B/s]\n",
      "  0%|          | 524k/1.89G [00:00<07:30, 4.19MB/s]\n",
      "  0%|          | 4.72M/1.89G [00:00<01:26, 21.7MB/s]\n",
      "  1%|          | 11.5M/1.89G [00:00<00:48, 38.7MB/s]\n",
      "  1%|          | 17.3M/1.89G [00:00<00:41, 45.2MB/s]\n",
      "  1%|          | 22.5M/1.89G [00:00<00:39, 47.4MB/s]\n",
      "  1%|▏         | 27.8M/1.89G [00:00<00:38, 48.7MB/s]\n",
      "  2%|▏         | 33.6M/1.89G [00:00<00:36, 50.4MB/s]\n",
      "  2%|▏         | 39.3M/1.89G [00:00<00:36, 51.0MB/s]\n",
      "  2%|▏         | 44.6M/1.89G [00:00<00:37, 48.9MB/s]\n",
      "  3%|▎         | 49.8M/1.89G [00:01<00:42, 43.1MB/s]\n",
      "  3%|▎         | 55.6M/1.89G [00:01<00:39, 46.7MB/s]\n",
      "  3%|▎         | 60.8M/1.89G [00:01<00:38, 47.6MB/s]\n",
      "  4%|▎         | 66.6M/1.89G [00:01<00:36, 49.3MB/s]\n",
      "  4%|▍         | 72.4M/1.89G [00:01<00:35, 51.4MB/s]\n",
      "  4%|▍         | 79.2M/1.89G [00:01<00:32, 55.9MB/s]\n",
      "  4%|▍         | 84.9M/1.89G [00:01<00:33, 54.2MB/s]\n",
      "  5%|▍         | 91.2M/1.89G [00:01<00:31, 56.6MB/s]\n",
      "  5%|▌         | 97.0M/1.89G [00:01<00:32, 55.7MB/s]\n",
      "  5%|▌         | 104M/1.89G [00:02<00:30, 58.2MB/s] \n",
      "  6%|▌         | 110M/1.89G [00:02<00:31, 57.2MB/s]\n",
      "  6%|▌         | 117M/1.89G [00:02<00:30, 58.5MB/s]\n",
      "  7%|▋         | 123M/1.89G [00:02<00:30, 58.0MB/s]\n",
      "  7%|▋         | 129M/1.89G [00:02<00:29, 59.1MB/s]\n",
      "  7%|▋         | 136M/1.89G [00:02<00:30, 57.8MB/s]\n",
      "  8%|▊         | 143M/1.89G [00:02<00:30, 56.5MB/s]\n",
      "  8%|▊         | 149M/1.89G [00:02<00:30, 57.4MB/s]\n",
      "  8%|▊         | 155M/1.89G [00:02<00:30, 57.0MB/s]\n",
      "  9%|▊         | 161M/1.89G [00:03<00:29, 58.3MB/s]\n",
      "  9%|▉         | 168M/1.89G [00:03<00:29, 57.7MB/s]\n",
      "  9%|▉         | 174M/1.89G [00:03<00:29, 58.2MB/s]\n",
      " 10%|▉         | 180M/1.89G [00:03<00:29, 57.8MB/s]\n",
      " 10%|▉         | 187M/1.89G [00:03<00:29, 57.4MB/s]\n",
      " 10%|█         | 193M/1.89G [00:03<00:29, 57.4MB/s]\n",
      " 11%|█         | 199M/1.89G [00:03<00:31, 54.1MB/s]\n",
      " 11%|█         | 205M/1.89G [00:03<00:30, 55.5MB/s]\n",
      " 11%|█         | 211M/1.89G [00:03<00:30, 55.1MB/s]\n",
      " 11%|█▏        | 217M/1.89G [00:04<00:29, 57.0MB/s]\n",
      " 12%|█▏        | 223M/1.89G [00:04<00:29, 56.0MB/s]\n",
      " 12%|█▏        | 229M/1.89G [00:04<00:29, 57.0MB/s]\n",
      " 12%|█▏        | 235M/1.89G [00:04<00:29, 56.7MB/s]\n",
      " 13%|█▎        | 241M/1.89G [00:04<00:28, 56.9MB/s]\n",
      " 13%|█▎        | 247M/1.89G [00:04<00:28, 58.0MB/s]\n",
      " 13%|█▎        | 253M/1.89G [00:04<00:28, 57.6MB/s]\n",
      " 14%|█▎        | 260M/1.89G [00:04<00:27, 59.0MB/s]\n",
      " 14%|█▍        | 266M/1.89G [00:04<00:28, 56.5MB/s]\n",
      " 14%|█▍        | 272M/1.89G [00:05<00:28, 56.6MB/s]\n",
      " 15%|█▍        | 277M/1.89G [00:05<00:28, 56.6MB/s]\n",
      " 15%|█▍        | 283M/1.89G [00:05<00:28, 56.4MB/s]\n",
      " 15%|█▌        | 289M/1.89G [00:05<00:27, 57.8MB/s]\n",
      " 16%|█▌        | 296M/1.89G [00:05<00:27, 57.0MB/s]\n",
      " 16%|█▌        | 301M/1.89G [00:05<00:28, 55.2MB/s]\n",
      " 16%|█▋        | 307M/1.89G [00:05<00:29, 53.8MB/s]\n",
      " 17%|█▋        | 314M/1.89G [00:05<00:27, 56.3MB/s]\n",
      " 17%|█▋        | 319M/1.89G [00:05<00:28, 55.9MB/s]\n",
      " 17%|█▋        | 326M/1.89G [00:05<00:27, 57.4MB/s]\n",
      " 18%|█▊        | 331M/1.89G [00:06<00:27, 56.3MB/s]\n",
      " 18%|█▊        | 337M/1.89G [00:06<00:27, 56.4MB/s]\n",
      " 18%|█▊        | 344M/1.89G [00:06<00:26, 57.3MB/s]\n",
      " 19%|█▊        | 350M/1.89G [00:06<00:26, 57.7MB/s]\n",
      " 19%|█▉        | 357M/1.89G [00:06<00:26, 58.9MB/s]\n",
      " 19%|█▉        | 363M/1.89G [00:06<00:27, 56.2MB/s]\n",
      " 20%|█▉        | 369M/1.89G [00:06<00:26, 57.8MB/s]\n",
      " 20%|█▉        | 375M/1.89G [00:06<00:26, 56.8MB/s]\n",
      " 20%|██        | 382M/1.89G [00:06<00:26, 57.1MB/s]\n",
      " 21%|██        | 387M/1.89G [00:07<00:26, 56.2MB/s]\n",
      " 21%|██        | 393M/1.89G [00:07<00:33, 44.6MB/s]\n",
      " 21%|██        | 400M/1.89G [00:07<00:30, 48.4MB/s]\n",
      " 21%|██▏       | 406M/1.89G [00:07<00:29, 50.7MB/s]\n",
      " 22%|██▏       | 412M/1.89G [00:07<00:27, 53.0MB/s]\n",
      " 22%|██▏       | 418M/1.89G [00:07<00:27, 54.2MB/s]\n",
      " 22%|██▏       | 424M/1.89G [00:07<00:28, 51.4MB/s]\n",
      " 23%|██▎       | 429M/1.89G [00:07<00:27, 53.0MB/s]\n",
      " 23%|██▎       | 436M/1.89G [00:08<00:26, 54.9MB/s]\n",
      " 23%|██▎       | 441M/1.89G [00:08<00:26, 54.0MB/s]\n",
      " 24%|██▎       | 448M/1.89G [00:08<00:25, 57.0MB/s]\n",
      " 24%|██▍       | 454M/1.89G [00:08<00:25, 55.5MB/s]\n",
      " 24%|██▍       | 460M/1.89G [00:08<00:25, 56.7MB/s]\n",
      " 25%|██▍       | 466M/1.89G [00:08<00:25, 56.8MB/s]\n",
      " 25%|██▍       | 472M/1.89G [00:08<00:25, 56.6MB/s]\n",
      " 25%|██▌       | 478M/1.89G [00:08<00:24, 57.8MB/s]\n",
      " 26%|██▌       | 484M/1.89G [00:08<00:24, 57.1MB/s]\n",
      " 26%|██▌       | 491M/1.89G [00:09<00:24, 56.7MB/s]\n",
      " 26%|██▋       | 497M/1.89G [00:09<00:24, 57.9MB/s]\n",
      " 27%|██▋       | 503M/1.89G [00:09<00:23, 59.0MB/s]\n",
      " 27%|██▋       | 510M/1.89G [00:09<00:23, 57.7MB/s]\n",
      " 27%|██▋       | 516M/1.89G [00:09<00:24, 57.1MB/s]\n",
      " 28%|██▊       | 522M/1.89G [00:09<00:23, 58.2MB/s]\n",
      " 28%|██▊       | 528M/1.89G [00:09<00:23, 57.2MB/s]\n",
      " 28%|██▊       | 534M/1.89G [00:09<00:24, 55.2MB/s]\n",
      " 29%|██▊       | 541M/1.89G [00:09<00:23, 57.1MB/s]\n",
      " 29%|██▉       | 547M/1.89G [00:09<00:23, 56.0MB/s]\n",
      " 29%|██▉       | 553M/1.89G [00:10<00:23, 57.8MB/s]\n",
      " 30%|██▉       | 559M/1.89G [00:10<00:23, 55.6MB/s]\n",
      " 30%|██▉       | 566M/1.89G [00:10<00:23, 57.1MB/s]\n",
      " 30%|███       | 571M/1.89G [00:10<00:23, 56.3MB/s]\n",
      " 31%|███       | 578M/1.89G [00:10<00:22, 58.1MB/s]\n",
      " 31%|███       | 584M/1.89G [00:10<00:23, 56.6MB/s]\n",
      " 31%|███       | 590M/1.89G [00:10<00:25, 51.9MB/s]\n",
      " 32%|███▏      | 596M/1.89G [00:10<00:29, 43.7MB/s]\n",
      " 32%|███▏      | 602M/1.89G [00:11<00:26, 47.9MB/s]\n",
      " 32%|███▏      | 608M/1.89G [00:11<00:25, 50.0MB/s]\n",
      " 32%|███▏      | 613M/1.89G [00:11<00:24, 51.7MB/s]\n",
      " 33%|███▎      | 620M/1.89G [00:11<00:23, 54.0MB/s]\n",
      " 33%|███▎      | 625M/1.89G [00:11<00:23, 54.9MB/s]\n",
      " 33%|███▎      | 631M/1.89G [00:11<00:22, 55.1MB/s]\n",
      " 34%|███▎      | 637M/1.89G [00:11<00:22, 55.3MB/s]\n",
      " 34%|███▍      | 643M/1.89G [00:11<00:22, 55.5MB/s]\n",
      " 34%|███▍      | 649M/1.89G [00:11<00:21, 56.7MB/s]\n",
      " 35%|███▍      | 655M/1.89G [00:12<00:26, 47.0MB/s]\n",
      " 35%|███▌      | 661M/1.89G [00:12<00:24, 49.7MB/s]\n",
      " 35%|███▌      | 667M/1.89G [00:12<00:23, 50.9MB/s]\n",
      " 36%|███▌      | 673M/1.89G [00:12<00:23, 50.9MB/s]\n",
      " 36%|███▌      | 679M/1.89G [00:12<00:22, 53.7MB/s]\n",
      " 36%|███▋      | 685M/1.89G [00:12<00:22, 53.3MB/s]\n",
      " 37%|███▋      | 690M/1.89G [00:12<00:24, 49.4MB/s]\n",
      " 37%|███▋      | 697M/1.89G [00:12<00:23, 51.4MB/s]\n",
      " 37%|███▋      | 703M/1.89G [00:12<00:22, 53.0MB/s]\n",
      " 38%|███▊      | 709M/1.89G [00:13<00:21, 55.6MB/s]\n",
      " 38%|███▊      | 715M/1.89G [00:13<00:20, 56.2MB/s]\n",
      " 38%|███▊      | 720M/1.89G [00:13<00:21, 54.1MB/s]\n",
      " 38%|███▊      | 727M/1.89G [00:13<00:20, 56.6MB/s]\n",
      " 39%|███▉      | 733M/1.89G [00:13<00:20, 55.9MB/s]\n",
      " 39%|███▉      | 739M/1.89G [00:13<00:20, 56.2MB/s]\n",
      " 39%|███▉      | 744M/1.89G [00:13<00:22, 50.4MB/s]\n",
      " 40%|███▉      | 752M/1.89G [00:13<00:20, 55.5MB/s]\n",
      " 40%|████      | 758M/1.89G [00:13<00:19, 57.4MB/s]\n",
      " 40%|████      | 764M/1.89G [00:14<00:19, 56.5MB/s]\n",
      " 41%|████      | 770M/1.89G [00:14<00:19, 56.7MB/s]\n",
      " 41%|████      | 776M/1.89G [00:14<00:19, 56.5MB/s]\n",
      " 41%|████▏     | 782M/1.89G [00:14<00:19, 56.4MB/s]\n",
      " 42%|████▏     | 789M/1.89G [00:14<00:19, 57.6MB/s]\n",
      " 42%|████▏     | 795M/1.89G [00:14<00:19, 56.9MB/s]\n",
      " 42%|████▏     | 801M/1.89G [00:14<00:18, 58.1MB/s]\n",
      " 43%|████▎     | 807M/1.89G [00:14<00:18, 57.2MB/s]\n",
      " 43%|████▎     | 814M/1.89G [00:14<00:18, 58.4MB/s]\n",
      " 43%|████▎     | 820M/1.89G [00:15<00:18, 57.4MB/s]\n",
      " 44%|████▍     | 826M/1.89G [00:15<00:18, 58.5MB/s]\n",
      " 44%|████▍     | 833M/1.89G [00:15<00:18, 57.5MB/s]\n",
      " 44%|████▍     | 839M/1.89G [00:15<00:17, 58.4MB/s]\n",
      " 45%|████▍     | 845M/1.89G [00:15<00:18, 57.2MB/s]\n",
      " 45%|████▌     | 851M/1.89G [00:15<00:18, 57.0MB/s]\n",
      " 45%|████▌     | 857M/1.89G [00:15<00:18, 56.6MB/s]\n",
      " 46%|████▌     | 863M/1.89G [00:15<00:17, 58.0MB/s]\n",
      " 46%|████▌     | 869M/1.89G [00:15<00:17, 57.1MB/s]\n",
      " 46%|████▋     | 876M/1.89G [00:15<00:17, 57.4MB/s]\n",
      " 47%|████▋     | 881M/1.89G [00:16<00:17, 57.4MB/s]\n",
      " 47%|████▋     | 887M/1.89G [00:16<00:17, 57.3MB/s]\n",
      " 47%|████▋     | 893M/1.89G [00:16<00:17, 58.3MB/s]\n",
      " 48%|████▊     | 900M/1.89G [00:16<00:17, 55.8MB/s]\n",
      " 48%|████▊     | 906M/1.89G [00:16<00:16, 58.4MB/s]\n",
      " 48%|████▊     | 913M/1.89G [00:16<00:17, 56.8MB/s]\n",
      " 49%|████▊     | 920M/1.89G [00:16<00:16, 57.2MB/s]\n",
      " 49%|████▉     | 926M/1.89G [00:16<00:16, 58.4MB/s]\n",
      " 49%|████▉     | 932M/1.89G [00:16<00:16, 57.8MB/s]\n",
      " 50%|████▉     | 938M/1.89G [00:17<00:16, 58.5MB/s]\n",
      " 50%|█████     | 945M/1.89G [00:17<00:15, 59.1MB/s]\n",
      " 50%|█████     | 951M/1.89G [00:17<00:16, 58.0MB/s]\n",
      " 51%|█████     | 957M/1.89G [00:17<00:16, 57.3MB/s]\n",
      " 51%|█████     | 964M/1.89G [00:17<00:15, 58.3MB/s]\n",
      " 51%|█████▏    | 970M/1.89G [00:17<00:18, 48.7MB/s]\n",
      " 52%|█████▏    | 975M/1.89G [00:17<00:20, 44.8MB/s]\n",
      " 52%|█████▏    | 981M/1.89G [00:17<00:19, 47.1MB/s]\n",
      " 52%|█████▏    | 987M/1.89G [00:18<00:18, 50.0MB/s]\n",
      " 53%|█████▎    | 994M/1.89G [00:18<00:17, 51.8MB/s]\n",
      " 53%|█████▎    | 1.00G/1.89G [00:18<00:16, 54.1MB/s]\n",
      " 53%|█████▎    | 1.01G/1.89G [00:18<00:15, 55.3MB/s]\n",
      " 54%|█████▎    | 1.01G/1.89G [00:18<00:15, 55.9MB/s]\n",
      " 54%|█████▍    | 1.02G/1.89G [00:18<00:15, 57.4MB/s]\n",
      " 54%|█████▍    | 1.02G/1.89G [00:18<00:15, 56.8MB/s]\n",
      " 55%|█████▍    | 1.03G/1.89G [00:18<00:14, 57.9MB/s]\n",
      " 55%|█████▍    | 1.04G/1.89G [00:18<00:14, 57.5MB/s]\n",
      " 55%|█████▌    | 1.04G/1.89G [00:19<00:14, 58.8MB/s]\n",
      " 56%|█████▌    | 1.05G/1.89G [00:19<00:14, 58.6MB/s]\n",
      " 56%|█████▌    | 1.06G/1.89G [00:19<00:14, 58.5MB/s]\n",
      " 56%|█████▋    | 1.06G/1.89G [00:19<00:14, 56.6MB/s]\n",
      " 57%|█████▋    | 1.07G/1.89G [00:19<00:14, 57.7MB/s]\n",
      " 57%|█████▋    | 1.08G/1.89G [00:19<00:14, 57.0MB/s]\n",
      " 57%|█████▋    | 1.08G/1.89G [00:19<00:14, 56.7MB/s]\n",
      " 58%|█████▊    | 1.09G/1.89G [00:19<00:15, 51.8MB/s]\n",
      " 58%|█████▊    | 1.09G/1.89G [00:19<00:14, 55.6MB/s]\n",
      " 58%|█████▊    | 1.10G/1.89G [00:20<00:14, 54.2MB/s]\n",
      " 59%|█████▊    | 1.11G/1.89G [00:20<00:13, 56.1MB/s]\n",
      " 59%|█████▉    | 1.11G/1.89G [00:20<00:13, 55.9MB/s]\n",
      " 59%|█████▉    | 1.12G/1.89G [00:20<00:13, 56.6MB/s]\n",
      " 60%|█████▉    | 1.12G/1.89G [00:20<00:13, 57.0MB/s]\n",
      " 60%|█████▉    | 1.13G/1.89G [00:20<00:13, 57.6MB/s]\n",
      " 60%|██████    | 1.14G/1.89G [00:20<00:13, 57.6MB/s]\n",
      " 61%|██████    | 1.14G/1.89G [00:20<00:13, 56.8MB/s]\n",
      " 61%|██████    | 1.15G/1.89G [00:20<00:14, 52.2MB/s]\n",
      " 61%|██████    | 1.15G/1.89G [00:21<00:13, 53.2MB/s]\n",
      " 61%|██████▏   | 1.16G/1.89G [00:21<00:12, 56.1MB/s]\n",
      " 62%|██████▏   | 1.17G/1.89G [00:21<00:12, 58.5MB/s]\n",
      " 62%|██████▏   | 1.17G/1.89G [00:21<00:12, 56.7MB/s]\n",
      " 63%|██████▎   | 1.18G/1.89G [00:21<00:12, 55.0MB/s]\n",
      " 63%|██████▎   | 1.19G/1.89G [00:21<00:12, 58.1MB/s]\n",
      " 63%|██████▎   | 1.19G/1.89G [00:21<00:12, 57.3MB/s]\n",
      " 64%|██████▎   | 1.20G/1.89G [00:21<00:11, 58.2MB/s]\n",
      " 64%|██████▍   | 1.21G/1.89G [00:21<00:11, 57.3MB/s]\n",
      " 64%|██████▍   | 1.21G/1.89G [00:22<00:11, 57.5MB/s]\n",
      " 65%|██████▍   | 1.22G/1.89G [00:22<00:11, 57.7MB/s]\n",
      " 65%|██████▍   | 1.23G/1.89G [00:22<00:11, 56.9MB/s]\n",
      " 65%|██████▌   | 1.23G/1.89G [00:22<00:11, 58.1MB/s]\n",
      " 66%|██████▌   | 1.24G/1.89G [00:22<00:11, 57.3MB/s]\n",
      " 66%|██████▌   | 1.24G/1.89G [00:22<00:11, 58.3MB/s]\n",
      " 66%|██████▌   | 1.25G/1.89G [00:22<00:10, 58.2MB/s]\n",
      " 67%|██████▋   | 1.26G/1.89G [00:22<00:10, 58.5MB/s]\n",
      " 67%|██████▋   | 1.26G/1.89G [00:22<00:10, 58.1MB/s]\n",
      " 67%|██████▋   | 1.27G/1.89G [00:22<00:10, 58.3MB/s]\n",
      " 68%|██████▊   | 1.28G/1.89G [00:23<00:10, 57.4MB/s]\n",
      " 68%|██████▊   | 1.28G/1.89G [00:23<00:33, 18.2MB/s]\n",
      " 68%|██████▊   | 1.29G/1.89G [00:24<00:34, 17.6MB/s]\n",
      " 69%|██████▉   | 1.30G/1.89G [00:24<00:17, 33.1MB/s]\n",
      " 69%|██████▉   | 1.31G/1.89G [00:24<00:15, 37.4MB/s]\n",
      " 70%|██████▉   | 1.32G/1.89G [00:24<00:13, 41.1MB/s]\n",
      " 70%|███████   | 1.32G/1.89G [00:24<00:12, 44.8MB/s]\n",
      " 70%|███████   | 1.33G/1.89G [00:24<00:11, 47.2MB/s]\n",
      " 71%|███████   | 1.33G/1.89G [00:24<00:11, 47.2MB/s]\n",
      " 71%|███████   | 1.34G/1.89G [00:25<00:10, 50.4MB/s]\n",
      " 71%|███████▏  | 1.35G/1.89G [00:25<00:10, 51.7MB/s]\n",
      " 72%|███████▏  | 1.35G/1.89G [00:25<00:09, 54.0MB/s]\n",
      " 72%|███████▏  | 1.36G/1.89G [00:25<00:09, 52.9MB/s]\n",
      " 72%|███████▏  | 1.37G/1.89G [00:25<00:09, 56.4MB/s]\n",
      " 73%|███████▎  | 1.37G/1.89G [00:25<00:09, 53.9MB/s]\n",
      " 73%|███████▎  | 1.38G/1.89G [00:25<00:09, 55.2MB/s]\n",
      " 73%|███████▎  | 1.39G/1.89G [00:25<00:08, 56.8MB/s]\n",
      " 74%|███████▎  | 1.39G/1.89G [00:25<00:08, 57.5MB/s]\n",
      " 74%|███████▍  | 1.40G/1.89G [00:26<00:08, 56.8MB/s]\n",
      " 74%|███████▍  | 1.41G/1.89G [00:26<00:08, 56.8MB/s]\n",
      " 75%|███████▍  | 1.41G/1.89G [00:26<00:08, 56.2MB/s]\n",
      " 75%|███████▌  | 1.42G/1.89G [00:26<00:08, 57.8MB/s]\n",
      " 75%|███████▌  | 1.42G/1.89G [00:26<00:08, 56.9MB/s]\n",
      " 76%|███████▌  | 1.43G/1.89G [00:26<00:08, 56.2MB/s]\n",
      " 76%|███████▌  | 1.44G/1.89G [00:26<00:08, 54.1MB/s]\n",
      " 76%|███████▋  | 1.44G/1.89G [00:26<00:09, 48.3MB/s]\n",
      " 77%|███████▋  | 1.45G/1.89G [00:27<00:08, 52.3MB/s]\n",
      " 77%|███████▋  | 1.46G/1.89G [00:27<00:07, 56.3MB/s]\n",
      " 77%|███████▋  | 1.46G/1.89G [00:27<00:07, 57.9MB/s]\n",
      " 78%|███████▊  | 1.47G/1.89G [00:27<00:07, 56.6MB/s]\n",
      " 78%|███████▊  | 1.48G/1.89G [00:27<00:07, 58.7MB/s]\n",
      " 78%|███████▊  | 1.48G/1.89G [00:27<00:06, 58.3MB/s]\n",
      " 79%|███████▉  | 1.49G/1.89G [00:27<00:06, 57.6MB/s]\n",
      " 79%|███████▉  | 1.49G/1.89G [00:27<00:07, 56.0MB/s]\n",
      " 79%|███████▉  | 1.50G/1.89G [00:27<00:06, 58.4MB/s]\n",
      " 80%|███████▉  | 1.51G/1.89G [00:28<00:06, 57.4MB/s]\n",
      " 80%|████████  | 1.51G/1.89G [00:28<00:06, 58.4MB/s]\n",
      " 80%|████████  | 1.52G/1.89G [00:28<00:06, 57.5MB/s]\n",
      " 81%|████████  | 1.53G/1.89G [00:28<00:06, 55.0MB/s]\n",
      " 81%|████████  | 1.53G/1.89G [00:28<00:06, 57.0MB/s]\n",
      " 81%|████████▏ | 1.54G/1.89G [00:28<00:06, 57.7MB/s]\n",
      " 82%|████████▏ | 1.54G/1.89G [00:28<00:05, 58.2MB/s]\n",
      " 82%|████████▏ | 1.55G/1.89G [00:28<00:05, 57.1MB/s]\n",
      " 82%|████████▏ | 1.56G/1.89G [00:28<00:05, 58.5MB/s]\n",
      " 83%|████████▎ | 1.56G/1.89G [00:28<00:05, 58.5MB/s]\n",
      " 83%|████████▎ | 1.57G/1.89G [00:29<00:05, 58.2MB/s]\n",
      " 83%|████████▎ | 1.58G/1.89G [00:29<00:05, 58.3MB/s]\n",
      " 84%|████████▍ | 1.58G/1.89G [00:29<00:05, 59.0MB/s]\n",
      " 84%|████████▍ | 1.59G/1.89G [00:29<00:05, 59.2MB/s]\n",
      " 84%|████████▍ | 1.59G/1.89G [00:29<00:05, 58.3MB/s]\n",
      " 85%|████████▍ | 1.60G/1.89G [00:29<00:04, 58.8MB/s]\n",
      " 85%|████████▌ | 1.61G/1.89G [00:29<00:04, 59.8MB/s]\n",
      " 85%|████████▌ | 1.61G/1.89G [00:29<00:04, 57.4MB/s]\n",
      " 86%|████████▌ | 1.62G/1.89G [00:29<00:04, 58.4MB/s]\n",
      " 86%|████████▌ | 1.63G/1.89G [00:30<00:04, 58.2MB/s]\n",
      " 86%|████████▋ | 1.63G/1.89G [00:30<00:04, 59.5MB/s]\n",
      " 87%|████████▋ | 1.64G/1.89G [00:30<00:04, 57.7MB/s]\n",
      " 87%|████████▋ | 1.65G/1.89G [00:30<00:04, 57.4MB/s]\n",
      " 87%|████████▋ | 1.65G/1.89G [00:30<00:04, 58.0MB/s]\n",
      " 88%|████████▊ | 1.66G/1.89G [00:30<00:03, 59.2MB/s]\n",
      " 88%|████████▊ | 1.66G/1.89G [00:30<00:03, 57.7MB/s]\n",
      " 88%|████████▊ | 1.67G/1.89G [00:30<00:03, 59.0MB/s]\n",
      " 89%|████████▉ | 1.68G/1.89G [00:30<00:03, 57.8MB/s]\n",
      " 89%|████████▉ | 1.68G/1.89G [00:31<00:03, 58.7MB/s]\n",
      " 89%|████████▉ | 1.69G/1.89G [00:31<00:03, 50.5MB/s]\n",
      " 90%|████████▉ | 1.70G/1.89G [00:31<00:03, 52.4MB/s]\n",
      " 90%|█████████ | 1.70G/1.89G [00:31<00:03, 55.3MB/s]\n",
      " 90%|█████████ | 1.71G/1.89G [00:31<00:03, 53.9MB/s]\n",
      " 91%|█████████ | 1.71G/1.89G [00:31<00:03, 57.1MB/s]\n",
      " 91%|█████████ | 1.72G/1.89G [00:31<00:02, 56.5MB/s]\n",
      " 91%|█████████▏| 1.73G/1.89G [00:31<00:02, 57.8MB/s]\n",
      " 92%|█████████▏| 1.73G/1.89G [00:31<00:02, 55.8MB/s]\n",
      " 92%|█████████▏| 1.74G/1.89G [00:32<00:02, 58.2MB/s]\n",
      " 92%|█████████▏| 1.75G/1.89G [00:32<00:02, 55.2MB/s]\n",
      " 93%|█████████▎| 1.75G/1.89G [00:32<00:02, 57.4MB/s]\n",
      " 93%|█████████▎| 1.76G/1.89G [00:32<00:02, 56.9MB/s]\n",
      " 94%|█████████▎| 1.77G/1.89G [00:32<00:02, 58.1MB/s]\n",
      " 94%|█████████▍| 1.77G/1.89G [00:33<00:08, 13.6MB/s]\n",
      " 95%|█████████▍| 1.79G/1.89G [00:33<00:03, 26.8MB/s]\n",
      " 95%|█████████▌| 1.80G/1.89G [00:34<00:03, 29.6MB/s]\n",
      " 96%|█████████▌| 1.81G/1.89G [00:34<00:02, 31.8MB/s]\n",
      " 96%|█████████▌| 1.81G/1.89G [00:34<00:02, 34.4MB/s]\n",
      " 96%|█████████▋| 1.82G/1.89G [00:34<00:01, 38.3MB/s]\n",
      " 97%|█████████▋| 1.82G/1.89G [00:34<00:01, 41.2MB/s]\n",
      " 97%|█████████▋| 1.83G/1.89G [00:34<00:01, 45.4MB/s]\n",
      " 97%|█████████▋| 1.84G/1.89G [00:34<00:01, 44.7MB/s]\n",
      " 98%|█████████▊| 1.84G/1.89G [00:35<00:00, 47.1MB/s]\n",
      " 98%|█████████▊| 1.85G/1.89G [00:35<00:00, 45.8MB/s]\n",
      " 98%|█████████▊| 1.85G/1.89G [00:35<00:00, 48.3MB/s]\n",
      " 98%|█████████▊| 1.86G/1.89G [00:35<00:00, 50.3MB/s]\n",
      " 99%|█████████▊| 1.86G/1.89G [00:35<00:00, 51.9MB/s]\n",
      " 99%|█████████▉| 1.87G/1.89G [00:35<00:00, 53.9MB/s]\n",
      " 99%|█████████▉| 1.88G/1.89G [00:35<00:00, 53.4MB/s]\n",
      "100%|█████████▉| 1.88G/1.89G [00:35<00:00, 55.1MB/s]\n",
      "100%|██████████| 1.89G/1.89G [00:35<00:00, 52.6MB/s]\n"
     ]
    }
   ],
   "source": [
    "!gdown 1pWcMgSYqCrijBPtaL0khMF_LAm6ubi-3"
   ]
  },
  {
   "cell_type": "code",
   "execution_count": 10,
   "id": "3ad6be26-69e3-4b79-831b-45aa6d3d2a7b",
   "metadata": {
    "colab": {
     "base_uri": "https://localhost:8080/",
     "height": 351
    },
    "collapsed": true,
    "id": "3ad6be26-69e3-4b79-831b-45aa6d3d2a7b",
    "outputId": "4fd92d7a-4e0c-4ea6-90e9-47c328959745"
   },
   "outputs": [
    {
     "data": {
      "text/plain": [
       "['colon_aca', 'colon_n']"
      ]
     },
     "execution_count": 10,
     "metadata": {},
     "output_type": "execute_result"
    }
   ],
   "source": [
    "from zipfile import ZipFile\n",
    "\n",
    "data_path = 'lung_colon_image_set.zip'\n",
    "\n",
    "with ZipFile(data_path,'r') as zip:\n",
    "  zip.extractall()\n",
    "path = 'lung_colon_image_set/colon_image_sets'\n",
    "classes = os.listdir(path)\n",
    "classes"
   ]
  },
  {
   "cell_type": "code",
   "execution_count": 11,
   "id": "4f1f56e2-ed24-419a-9d0e-d8b7f65c2508",
   "metadata": {
    "id": "4f1f56e2-ed24-419a-9d0e-d8b7f65c2508"
   },
   "outputs": [],
   "source": [
    "IMG_SIZE = 128\n",
    "SPLIT = 0.2\n",
    "EPOCHS = 5\n",
    "BATCH_SIZE = 64"
   ]
  },
  {
   "cell_type": "code",
   "execution_count": 12,
   "id": "2c4f6620-fa63-48d0-8102-b1413d8212bf",
   "metadata": {
    "id": "2c4f6620-fa63-48d0-8102-b1413d8212bf"
   },
   "outputs": [],
   "source": [
    "X = []\n",
    "Y = []\n",
    "\n",
    "for i, cat in enumerate(classes):\n",
    "    images = glob(f'{path}/{cat}/*.jpeg')\n",
    "\n",
    "    for image in images:\n",
    "    \timg = cv2.imread(image)\n",
    "\n",
    "    \tX.append(cv2.resize(img, (IMG_SIZE, IMG_SIZE)))\n",
    "    \tY.append(i)\n",
    "\n",
    "X = np.asarray(X)\n",
    "one_hot_encoded_Y = pd.get_dummies(Y).values\n"
   ]
  },
  {
   "cell_type": "markdown",
   "id": "22c299f1-1e8b-47d3-9bea-88432f899257",
   "metadata": {
    "id": "22c299f1-1e8b-47d3-9bea-88432f899257"
   },
   "source": [
    "## División de datos y verificación de formas:"
   ]
  },
  {
   "cell_type": "code",
   "execution_count": 13,
   "id": "725dfd49-bdd2-411e-af83-b097ec5b9983",
   "metadata": {
    "colab": {
     "base_uri": "https://localhost:8080/"
    },
    "id": "725dfd49-bdd2-411e-af83-b097ec5b9983",
    "outputId": "dcdc4ea3-0a55-4783-9612-22c12e2a0a46"
   },
   "outputs": [
    {
     "name": "stdout",
     "output_type": "stream",
     "text": [
      "(8000, 128, 128, 3) (2000, 128, 128, 3)\n"
     ]
    }
   ],
   "source": [
    "X_train, X_val, Y_train, Y_val = train_test_split(\n",
    "X, one_hot_encoded_Y, test_size = SPLIT, random_state = 2022)\n",
    "print(X_train.shape, X_val.shape)\n"
   ]
  },
  {
   "cell_type": "code",
   "execution_count": 14,
   "id": "csU1gqXaok78",
   "metadata": {
    "colab": {
     "base_uri": "https://localhost:8080/"
    },
    "id": "csU1gqXaok78",
    "outputId": "d77ac68c-07ab-40a9-d2a0-c00998b2cf00"
   },
   "outputs": [
    {
     "data": {
      "text/plain": [
       "193"
      ]
     },
     "execution_count": 14,
     "metadata": {},
     "output_type": "execute_result"
    }
   ],
   "source": [
    "gc.collect()"
   ]
  },
  {
   "cell_type": "code",
   "execution_count": 15,
   "id": "3e3b2676-b788-4832-a2b5-8487de1fdbc7",
   "metadata": {
    "id": "3e3b2676-b788-4832-a2b5-8487de1fdbc7"
   },
   "outputs": [
    {
     "name": "stdout",
     "output_type": "stream",
     "text": [
      "Downloading data from https://storage.googleapis.com/tensorflow/keras-applications/inception_v3/inception_v3_weights_tf_dim_ordering_tf_kernels_notop.h5\n",
      "\u001b[1m87910968/87910968\u001b[0m \u001b[32m━━━━━━━━━━━━━━━━━━━━\u001b[0m\u001b[37m\u001b[0m \u001b[1m2s\u001b[0m 0us/step\n"
     ]
    }
   ],
   "source": [
    "from tensorflow.keras.applications.inception_v3 import InceptionV3   # type: ignore\n",
    "pre_trained_model = InceptionV3(\n",
    "\tinput_shape = (IMG_SIZE, IMG_SIZE, 3),\n",
    "\tweights = 'imagenet',\n",
    "\tinclude_top = False\n",
    ")\n"
   ]
  },
  {
   "cell_type": "code",
   "execution_count": 16,
   "id": "60422f1b-4e32-4dc8-a7b0-a173f7626a68",
   "metadata": {
    "id": "60422f1b-4e32-4dc8-a7b0-a173f7626a68"
   },
   "outputs": [
    {
     "name": "stdout",
     "output_type": "stream",
     "text": [
      "last layer output shape:  (None, 6, 6, 768)\n"
     ]
    }
   ],
   "source": [
    "for layer in pre_trained_model.layers:\n",
    "    layer.trainable = False\n",
    "last_layer = pre_trained_model.get_layer('mixed7')\n",
    "print('last layer output shape: ', last_layer.output.shape)\n",
    "last_output = last_layer.output\n"
   ]
  },
  {
   "cell_type": "code",
   "execution_count": 17,
   "id": "1c433a49-ba71-457e-8330-5ed61c8ce4c1",
   "metadata": {
    "id": "1c433a49-ba71-457e-8330-5ed61c8ce4c1"
   },
   "outputs": [],
   "source": [
    "\n",
    "flattened_output = layers.Flatten()(last_output)\n",
    "\n",
    "dense_1 = layers.Dense(64, activation='relu')(flattened_output)\n",
    "batch_norm_1 = layers.BatchNormalization()(dense_1)\n",
    "dropout_1 = layers.Dropout(0.6)(batch_norm_1)\n",
    "\n",
    "dense_2 = layers.Dense(32, activation='relu')(dropout_1)\n",
    "batch_norm_2 = layers.BatchNormalization()(dense_2)\n",
    "dropout_2 = layers.Dropout(0.6)(batch_norm_2)\n",
    "\n",
    "output_layer = layers.Dense(2, activation='sigmoid')(dropout_2)\n",
    "\n",
    "model = keras.Model(inputs=pre_trained_model.input, outputs=output_layer)\n",
    "\n",
    "adam_optimizer = keras.optimizers.Adam(learning_rate=0.00004)\n",
    "\n",
    "model.compile(\n",
    "    optimizer=adam_optimizer,\n",
    "    loss='binary_crossentropy',\n",
    "    metrics=['accuracy']\n",
    ")\n"
   ]
  },
  {
   "cell_type": "code",
   "execution_count": 18,
   "id": "184fa87a-35cb-4cc9-b37c-536470b87439",
   "metadata": {
    "id": "184fa87a-35cb-4cc9-b37c-536470b87439"
   },
   "outputs": [],
   "source": [
    "class myCallback(tf.keras.callbacks.Callback):\n",
    "    def on_epoch_end(self, epoch, logs={}):\n",
    "        if logs.get('val_accuracy') > 0.85:\n",
    "            print('\\n Como la validacion alcanzo una precision del 85%, se detuvo el entrenamiento.')\n",
    "            self.model.stop_training = True\n",
    "es = EarlyStopping(patience=15, monitor='val_loss', restore_best_weights=True)\n",
    "checkpoint = ModelCheckpoint('best_model.keras', monitor='val_loss', verbose=1, save_best_only=True, mode='min')\n",
    "\n",
    "callbacks = [es, myCallback(), checkpoint]\n"
   ]
  },
  {
   "cell_type": "code",
   "execution_count": 19,
   "id": "754f6b68-c611-4d59-bdd9-ed50c767bd48",
   "metadata": {
    "colab": {
     "base_uri": "https://localhost:8080/"
    },
    "id": "754f6b68-c611-4d59-bdd9-ed50c767bd48",
    "outputId": "4490ddfa-f963-4bf5-88ae-eed186d5c6ba"
   },
   "outputs": [
    {
     "name": "stdout",
     "output_type": "stream",
     "text": [
      "(array([0, 1]), array([5000, 5000], dtype=int64))\n"
     ]
    }
   ],
   "source": [
    "print(np.unique(Y, return_counts=True))\n"
   ]
  },
  {
   "cell_type": "code",
   "execution_count": 20,
   "id": "fb861eec-2905-468f-8cd9-1f02c6183ab0",
   "metadata": {
    "colab": {
     "base_uri": "https://localhost:8080/"
    },
    "id": "fb861eec-2905-468f-8cd9-1f02c6183ab0",
    "outputId": "05ae88f4-6c36-41cf-8112-e4a1b6b42a9d"
   },
   "outputs": [
    {
     "name": "stdout",
     "output_type": "stream",
     "text": [
      "Epoch 1/5\n",
      "\u001b[1m125/125\u001b[0m \u001b[32m━━━━━━━━━━━━━━━━━━━━\u001b[0m\u001b[37m\u001b[0m \u001b[1m67s\u001b[0m 457ms/step - accuracy: 0.6359 - loss: 0.8804 - val_accuracy: 0.5245 - val_loss: 1.1081\n",
      "Epoch 2/5\n",
      "\u001b[1m125/125\u001b[0m \u001b[32m━━━━━━━━━━━━━━━━━━━━\u001b[0m\u001b[37m\u001b[0m \u001b[1m55s\u001b[0m 442ms/step - accuracy: 0.7364 - loss: 0.6868 - val_accuracy: 0.6490 - val_loss: 0.6726\n",
      "Epoch 3/5\n",
      "\u001b[1m125/125\u001b[0m \u001b[32m━━━━━━━━━━━━━━━━━━━━\u001b[0m\u001b[37m\u001b[0m \u001b[1m56s\u001b[0m 450ms/step - accuracy: 0.7705 - loss: 0.6276 - val_accuracy: 0.6995 - val_loss: 0.6406\n",
      "Epoch 4/5\n",
      "\u001b[1m125/125\u001b[0m \u001b[32m━━━━━━━━━━━━━━━━━━━━\u001b[0m\u001b[37m\u001b[0m \u001b[1m55s\u001b[0m 439ms/step - accuracy: 0.7850 - loss: 0.5789 - val_accuracy: 0.8220 - val_loss: 0.4092\n",
      "Epoch 5/5\n",
      "\u001b[1m125/125\u001b[0m \u001b[32m━━━━━━━━━━━━━━━━━━━━\u001b[0m\u001b[37m\u001b[0m \u001b[1m0s\u001b[0m 353ms/step - accuracy: 0.8045 - loss: 0.5343\n",
      " Como la validacion alcanzo una precision del 85%, se detuvo el entrenamiento.\n",
      "\u001b[1m125/125\u001b[0m \u001b[32m━━━━━━━━━━━━━━━━━━━━\u001b[0m\u001b[37m\u001b[0m \u001b[1m55s\u001b[0m 441ms/step - accuracy: 0.8045 - loss: 0.5343 - val_accuracy: 0.8750 - val_loss: 0.3251\n"
     ]
    }
   ],
   "source": [
    "import winsound \n",
    "history = model.fit(X_train, Y_train,\n",
    "\t\t\t\t\tvalidation_data = (X_val, Y_val),\n",
    "\t\t\t\t\tbatch_size = BATCH_SIZE,\n",
    "\t\t\t\t\tepochs = EPOCHS,\n",
    "\t\t\t\t\tverbose = 1,\n",
    "\t\t\t\t\tcallbacks = [es, myCallback()])\n",
    "\n",
    "   \n",
    "winsound.Beep(1440, 2000)    "
   ]
  },
  {
   "cell_type": "code",
   "execution_count": 21,
   "id": "838bd002-3865-4abf-9afc-a74a09c97e94",
   "metadata": {
    "colab": {
     "base_uri": "https://localhost:8080/",
     "height": 872
    },
    "id": "838bd002-3865-4abf-9afc-a74a09c97e94",
    "outputId": "cd94e844-0b6b-48dd-f0c7-b17b703d0c18",
    "scrolled": true
   },
   "outputs": [
    {
     "data": {
      "image/png": "[encoded data removed]",
      "text/plain": [
       "<Figure size 1000x1000 with 2 Axes>"
      ]
     },
     "metadata": {},
     "output_type": "display_data"
    }
   ],
   "source": [
    "# Visualización de las métricas de entrenamiento\n",
    "def plot_metrics(history):\n",
    "    fig, axs = plt.subplots(2, 1, figsize=(10, 10))\n",
    "    axs[0].plot(history.history['accuracy'], label='Train Accuracy', color='blue', linestyle='--')\n",
    "    axs[0].plot(history.history['val_accuracy'], label='Validation Accuracy', color='green', linestyle='-')\n",
    "    axs[0].set_title('Model Accuracy', fontsize=16)\n",
    "    axs[0].set_ylabel('Accuracy', fontsize=14)\n",
    "    axs[0].set_xlabel('Epoch', fontsize=14)\n",
    "    axs[0].legend(['Train', 'Validation'], loc='upper left', fontsize=12)\n",
    "\n",
    "    axs[1].plot(history.history['loss'], label='Train Loss', color='red', linestyle='--')\n",
    "    axs[1].plot(history.history['val_loss'], label='Validation Loss', color='orange', linestyle='-')\n",
    "    axs[1].set_title('Model Loss', fontsize=16)\n",
    "    axs[1].set_ylabel('Loss', fontsize=14)\n",
    "    axs[1].set_xlabel('Epoch', fontsize=14)\n",
    "    axs[1].legend(['Train', 'Validation'], loc='upper left', fontsize=12)\n",
    "    plt.show()\n",
    "\n",
    "plot_metrics(history)"
   ]
  },
  {
   "cell_type": "code",
   "execution_count": 22,
   "id": "db0b5b52-2843-42b1-ae21-adac79537dcd",
   "metadata": {
    "colab": {
     "base_uri": "https://localhost:8080/"
    },
    "id": "db0b5b52-2843-42b1-ae21-adac79537dcd",
    "outputId": "67b492ae-8691-4aeb-d24b-be058f874367"
   },
   "outputs": [
    {
     "name": "stdout",
     "output_type": "stream",
     "text": [
      "\u001b[1m63/63\u001b[0m \u001b[32m━━━━━━━━━━━━━━━━━━━━\u001b[0m\u001b[37m\u001b[0m \u001b[1m16s\u001b[0m 213ms/step\n"
     ]
    }
   ],
   "source": [
    "Y_pred = model.predict(X_val)\n",
    "\n",
    "Y_val = np.argmax(Y_val, axis=1)\n",
    "Y_pred = np.argmax(Y_pred, axis=1)\n"
   ]
  },
  {
   "cell_type": "code",
   "execution_count": 23,
   "id": "f4ce5ca4",
   "metadata": {},
   "outputs": [
    {
     "name": "stdout",
     "output_type": "stream",
     "text": [
      "[[849 130]\n",
      " [120 901]]\n",
      "              precision    recall  f1-score   support\n",
      "\n",
      "   colon_aca       0.88      0.87      0.87       979\n",
      "     colon_n       0.87      0.88      0.88      1021\n",
      "\n",
      "    accuracy                           0.88      2000\n",
      "   macro avg       0.88      0.87      0.87      2000\n",
      "weighted avg       0.88      0.88      0.87      2000\n",
      "\n"
     ]
    }
   ],
   "source": [
    "print(metrics.confusion_matrix(Y_val, Y_pred))\n",
    "print(metrics.classification_report(Y_val, Y_pred,\n",
    "\t\t\t\t\t\t\t\t\ttarget_names=classes))"
   ]
  },
  {
   "cell_type": "code",
   "execution_count": 24,
   "id": "8977c48f",
   "metadata": {},
   "outputs": [],
   "source": [
    "model.save('best_model.keras')\n",
    "pd.DataFrame(history.history).to_csv('history.csv')\n",
    "np.save('X_val.npy', X_val)\n",
    "np.save('Y_val.npy', Y_val)\n",
    "np.save('Y_pred.npy', Y_pred)"
   ]
  }
 ],
 "metadata": {
  "colab": {
   "provenance": []
  },
  "kernelspec": {
   "display_name": "Python 3 (ipykernel)",
   "language": "python",
   "name": "python3"
  },
  "language_info": {
   "codemirror_mode": {
    "name": "ipython",
    "version": 3
   },
   "file_extension": ".py",
   "mimetype": "text/x-python",
   "name": "python",
   "nbconvert_exporter": "python",
   "pygments_lexer": "ipython3",
   "version": "3.11.7"
  }
 },
 "nbformat": 4,
 "nbformat_minor": 5
}
